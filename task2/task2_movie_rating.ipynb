{
 "cells": [
  {
   "cell_type": "markdown",
   "id": "df916a3d",
   "metadata": {},
   "source": [
    "# Importing data and preprocessing"
   ]
  },
  {
   "cell_type": "code",
   "execution_count": 3,
   "id": "7a7726d1",
   "metadata": {},
   "outputs": [],
   "source": [
    "import pandas as pd"
   ]
  },
  {
   "cell_type": "code",
   "execution_count": 4,
   "id": "0705dd11",
   "metadata": {},
   "outputs": [],
   "source": [
    "data=pd.read_csv('movies.csv',encoding='latin1')"
   ]
  },
  {
   "cell_type": "code",
   "execution_count": 5,
   "id": "c08a6c7f",
   "metadata": {},
   "outputs": [
    {
     "data": {
      "text/html": [
       "<div>\n",
       "<style scoped>\n",
       "    .dataframe tbody tr th:only-of-type {\n",
       "        vertical-align: middle;\n",
       "    }\n",
       "\n",
       "    .dataframe tbody tr th {\n",
       "        vertical-align: top;\n",
       "    }\n",
       "\n",
       "    .dataframe thead th {\n",
       "        text-align: right;\n",
       "    }\n",
       "</style>\n",
       "<table border=\"1\" class=\"dataframe\">\n",
       "  <thead>\n",
       "    <tr style=\"text-align: right;\">\n",
       "      <th></th>\n",
       "      <th>Name</th>\n",
       "      <th>Year</th>\n",
       "      <th>Duration</th>\n",
       "      <th>Genre</th>\n",
       "      <th>Rating</th>\n",
       "      <th>Votes</th>\n",
       "      <th>Director</th>\n",
       "      <th>Actor 1</th>\n",
       "      <th>Actor 2</th>\n",
       "      <th>Actor 3</th>\n",
       "    </tr>\n",
       "  </thead>\n",
       "  <tbody>\n",
       "    <tr>\n",
       "      <th>0</th>\n",
       "      <td></td>\n",
       "      <td>NaN</td>\n",
       "      <td>NaN</td>\n",
       "      <td>Drama</td>\n",
       "      <td>NaN</td>\n",
       "      <td>NaN</td>\n",
       "      <td>J.S. Randhawa</td>\n",
       "      <td>Manmauji</td>\n",
       "      <td>Birbal</td>\n",
       "      <td>Rajendra Bhatia</td>\n",
       "    </tr>\n",
       "    <tr>\n",
       "      <th>1</th>\n",
       "      <td>#Gadhvi (He thought he was Gandhi)</td>\n",
       "      <td>(2019)</td>\n",
       "      <td>109 min</td>\n",
       "      <td>Drama</td>\n",
       "      <td>7.0</td>\n",
       "      <td>8</td>\n",
       "      <td>Gaurav Bakshi</td>\n",
       "      <td>Rasika Dugal</td>\n",
       "      <td>Vivek Ghamande</td>\n",
       "      <td>Arvind Jangid</td>\n",
       "    </tr>\n",
       "    <tr>\n",
       "      <th>2</th>\n",
       "      <td>#Homecoming</td>\n",
       "      <td>(2021)</td>\n",
       "      <td>90 min</td>\n",
       "      <td>Drama, Musical</td>\n",
       "      <td>NaN</td>\n",
       "      <td>NaN</td>\n",
       "      <td>Soumyajit Majumdar</td>\n",
       "      <td>Sayani Gupta</td>\n",
       "      <td>Plabita Borthakur</td>\n",
       "      <td>Roy Angana</td>\n",
       "    </tr>\n",
       "    <tr>\n",
       "      <th>3</th>\n",
       "      <td>#Yaaram</td>\n",
       "      <td>(2019)</td>\n",
       "      <td>110 min</td>\n",
       "      <td>Comedy, Romance</td>\n",
       "      <td>4.4</td>\n",
       "      <td>35</td>\n",
       "      <td>Ovais Khan</td>\n",
       "      <td>Prateik</td>\n",
       "      <td>Ishita Raj</td>\n",
       "      <td>Siddhant Kapoor</td>\n",
       "    </tr>\n",
       "    <tr>\n",
       "      <th>4</th>\n",
       "      <td>...And Once Again</td>\n",
       "      <td>(2010)</td>\n",
       "      <td>105 min</td>\n",
       "      <td>Drama</td>\n",
       "      <td>NaN</td>\n",
       "      <td>NaN</td>\n",
       "      <td>Amol Palekar</td>\n",
       "      <td>Rajat Kapoor</td>\n",
       "      <td>Rituparna Sengupta</td>\n",
       "      <td>Antara Mali</td>\n",
       "    </tr>\n",
       "  </tbody>\n",
       "</table>\n",
       "</div>"
      ],
      "text/plain": [
       "                                 Name    Year Duration            Genre  \\\n",
       "0                                         NaN      NaN            Drama   \n",
       "1  #Gadhvi (He thought he was Gandhi)  (2019)  109 min            Drama   \n",
       "2                         #Homecoming  (2021)   90 min   Drama, Musical   \n",
       "3                             #Yaaram  (2019)  110 min  Comedy, Romance   \n",
       "4                   ...And Once Again  (2010)  105 min            Drama   \n",
       "\n",
       "   Rating Votes            Director       Actor 1             Actor 2  \\\n",
       "0     NaN   NaN       J.S. Randhawa      Manmauji              Birbal   \n",
       "1     7.0     8       Gaurav Bakshi  Rasika Dugal      Vivek Ghamande   \n",
       "2     NaN   NaN  Soumyajit Majumdar  Sayani Gupta   Plabita Borthakur   \n",
       "3     4.4    35          Ovais Khan       Prateik          Ishita Raj   \n",
       "4     NaN   NaN        Amol Palekar  Rajat Kapoor  Rituparna Sengupta   \n",
       "\n",
       "           Actor 3  \n",
       "0  Rajendra Bhatia  \n",
       "1    Arvind Jangid  \n",
       "2       Roy Angana  \n",
       "3  Siddhant Kapoor  \n",
       "4      Antara Mali  "
      ]
     },
     "execution_count": 5,
     "metadata": {},
     "output_type": "execute_result"
    }
   ],
   "source": [
    "data.head()"
   ]
  },
  {
   "cell_type": "code",
   "execution_count": 6,
   "id": "8150fa2d",
   "metadata": {},
   "outputs": [
    {
     "data": {
      "text/plain": [
       "0    120 min\n",
       "Name: Duration, dtype: object"
      ]
     },
     "execution_count": 6,
     "metadata": {},
     "output_type": "execute_result"
    }
   ],
   "source": [
    "data['Duration'].mode()"
   ]
  },
  {
   "cell_type": "code",
   "execution_count": 7,
   "id": "551efe0b",
   "metadata": {},
   "outputs": [],
   "source": [
    "data['Duration']=data['Duration'].fillna('120 min')"
   ]
  },
  {
   "cell_type": "code",
   "execution_count": 8,
   "id": "6cc33bf4",
   "metadata": {},
   "outputs": [
    {
     "data": {
      "text/plain": [
       "Name           0\n",
       "Year         528\n",
       "Duration       0\n",
       "Genre       1877\n",
       "Rating      7590\n",
       "Votes       7589\n",
       "Director     525\n",
       "Actor 1     1617\n",
       "Actor 2     2384\n",
       "Actor 3     3144\n",
       "dtype: int64"
      ]
     },
     "execution_count": 8,
     "metadata": {},
     "output_type": "execute_result"
    }
   ],
   "source": [
    "data.isnull().sum()"
   ]
  },
  {
   "cell_type": "code",
   "execution_count": 9,
   "id": "1b841c89",
   "metadata": {},
   "outputs": [],
   "source": [
    "data['Rating']=data['Rating'].fillna(data['Rating'].mean())"
   ]
  },
  {
   "cell_type": "code",
   "execution_count": 10,
   "id": "bbcd6d6e",
   "metadata": {},
   "outputs": [
    {
     "data": {
      "text/plain": [
       "Name           0\n",
       "Year         528\n",
       "Duration       0\n",
       "Genre       1877\n",
       "Rating         0\n",
       "Votes       7589\n",
       "Director     525\n",
       "Actor 1     1617\n",
       "Actor 2     2384\n",
       "Actor 3     3144\n",
       "dtype: int64"
      ]
     },
     "execution_count": 10,
     "metadata": {},
     "output_type": "execute_result"
    }
   ],
   "source": [
    "data.isnull().sum()"
   ]
  },
  {
   "cell_type": "code",
   "execution_count": 11,
   "id": "cbcc79d5",
   "metadata": {},
   "outputs": [
    {
     "data": {
      "text/plain": [
       "0    8\n",
       "Name: Votes, dtype: object"
      ]
     },
     "execution_count": 11,
     "metadata": {},
     "output_type": "execute_result"
    }
   ],
   "source": [
    "data['Votes'].mode()"
   ]
  },
  {
   "cell_type": "code",
   "execution_count": 12,
   "id": "d76a77f2",
   "metadata": {},
   "outputs": [],
   "source": [
    "data['Votes']=data['Votes'].fillna('8')"
   ]
  },
  {
   "cell_type": "code",
   "execution_count": 13,
   "id": "1ec64f73",
   "metadata": {},
   "outputs": [
    {
     "data": {
      "text/plain": [
       "Name           0\n",
       "Year         528\n",
       "Duration       0\n",
       "Genre       1877\n",
       "Rating         0\n",
       "Votes          0\n",
       "Director     525\n",
       "Actor 1     1617\n",
       "Actor 2     2384\n",
       "Actor 3     3144\n",
       "dtype: int64"
      ]
     },
     "execution_count": 13,
     "metadata": {},
     "output_type": "execute_result"
    }
   ],
   "source": [
    "data.isnull().sum()"
   ]
  },
  {
   "cell_type": "code",
   "execution_count": 14,
   "id": "2f10576e",
   "metadata": {},
   "outputs": [
    {
     "data": {
      "text/plain": [
       "0    (2019)\n",
       "Name: Year, dtype: object"
      ]
     },
     "execution_count": 14,
     "metadata": {},
     "output_type": "execute_result"
    }
   ],
   "source": [
    "data['Year'].mode()"
   ]
  },
  {
   "cell_type": "code",
   "execution_count": 15,
   "id": "67dd8308",
   "metadata": {},
   "outputs": [],
   "source": [
    "data['Year']=data['Year'].fillna('(2019)')"
   ]
  },
  {
   "cell_type": "code",
   "execution_count": 16,
   "id": "75dcc596",
   "metadata": {},
   "outputs": [
    {
     "data": {
      "text/plain": [
       "Name           0\n",
       "Year           0\n",
       "Duration       0\n",
       "Genre       1877\n",
       "Rating         0\n",
       "Votes          0\n",
       "Director     525\n",
       "Actor 1     1617\n",
       "Actor 2     2384\n",
       "Actor 3     3144\n",
       "dtype: int64"
      ]
     },
     "execution_count": 16,
     "metadata": {},
     "output_type": "execute_result"
    }
   ],
   "source": [
    "data.isnull().sum()"
   ]
  },
  {
   "cell_type": "code",
   "execution_count": 17,
   "id": "47a4a0ce",
   "metadata": {},
   "outputs": [
    {
     "data": {
      "text/plain": [
       "0    Jayant Desai\n",
       "Name: Director, dtype: object"
      ]
     },
     "execution_count": 17,
     "metadata": {},
     "output_type": "execute_result"
    }
   ],
   "source": [
    "data['Director'].mode()\n"
   ]
  },
  {
   "cell_type": "code",
   "execution_count": 18,
   "id": "a9278c61",
   "metadata": {},
   "outputs": [
    {
     "data": {
      "text/plain": [
       "Name           0\n",
       "Year           0\n",
       "Duration       0\n",
       "Genre       1877\n",
       "Rating         0\n",
       "Votes          0\n",
       "Director       0\n",
       "Actor 1     1617\n",
       "Actor 2     2384\n",
       "Actor 3     3144\n",
       "dtype: int64"
      ]
     },
     "execution_count": 18,
     "metadata": {},
     "output_type": "execute_result"
    }
   ],
   "source": [
    "data['Director']=data['Director'].fillna('Jayant Desai')\n",
    "data.isnull().sum()\n",
    " "
   ]
  },
  {
   "cell_type": "markdown",
   "id": "cbebe94e",
   "metadata": {},
   "source": [
    "# Converting string to vector"
   ]
  },
  {
   "cell_type": "code",
   "execution_count": 19,
   "id": "8932d9f4",
   "metadata": {},
   "outputs": [],
   "source": [
    "import numpy as np\n",
    "from gensim.models import Word2Vec\n",
    "from gensim.utils import simple_preprocess\n",
    "tokenized=[simple_preprocess(director) for director in data['Director']]\n",
    "model=Word2Vec(sentences=tokenized,vector_size=100,window=5,min_count=1,workers=4)\n",
    "def dir_to_vector(director):\n",
    "    token=simple_preprocess(director)\n",
    "    vector=np.zeros(model.vector_size)\n",
    "    count=0\n",
    "    for tok in token:\n",
    "        if tok in model.wv:\n",
    "            vector+=model.wv[tok]\n",
    "            count+=1\n",
    "        if count!=0:\n",
    "            vector/=count\n",
    "        return vector\n",
    "dir_v=[dir_to_vector(director) for director in data['Director']]"
   ]
  },
  {
   "cell_type": "code",
   "execution_count": 20,
   "id": "38684d9d",
   "metadata": {},
   "outputs": [],
   "source": [
    "\n",
    "data['Director_Vector'] = dir_v\n",
    "#print(dir_v)"
   ]
  },
  {
   "cell_type": "code",
   "execution_count": 21,
   "id": "79125684",
   "metadata": {},
   "outputs": [
    {
     "name": "stdout",
     "output_type": "stream",
     "text": [
      "<class 'pandas.core.frame.DataFrame'>\n",
      "RangeIndex: 15509 entries, 0 to 15508\n",
      "Data columns (total 11 columns):\n",
      " #   Column           Non-Null Count  Dtype  \n",
      "---  ------           --------------  -----  \n",
      " 0   Name             15509 non-null  object \n",
      " 1   Year             15509 non-null  object \n",
      " 2   Duration         15509 non-null  object \n",
      " 3   Genre            13632 non-null  object \n",
      " 4   Rating           15509 non-null  float64\n",
      " 5   Votes            15509 non-null  object \n",
      " 6   Director         15509 non-null  object \n",
      " 7   Actor 1          13892 non-null  object \n",
      " 8   Actor 2          13125 non-null  object \n",
      " 9   Actor 3          12365 non-null  object \n",
      " 10  Director_Vector  15508 non-null  object \n",
      "dtypes: float64(1), object(10)\n",
      "memory usage: 1.3+ MB\n"
     ]
    }
   ],
   "source": [
    "data.info()"
   ]
  },
  {
   "cell_type": "code",
   "execution_count": 22,
   "id": "31add025",
   "metadata": {},
   "outputs": [
    {
     "name": "stderr",
     "output_type": "stream",
     "text": [
      "C:\\Users\\admin\\AppData\\Local\\Temp\\ipykernel_16436\\2090773780.py:1: FutureWarning: The default value of regex will change from True to False in a future version.\n",
      "  data['Year']=data['Year'].str.replace(r'[()]','').astype(int)\n"
     ]
    }
   ],
   "source": [
    "data['Year']=data['Year'].str.replace(r'[()]','').astype(int)"
   ]
  },
  {
   "cell_type": "code",
   "execution_count": 23,
   "id": "b43749a6",
   "metadata": {},
   "outputs": [
    {
     "name": "stdout",
     "output_type": "stream",
     "text": [
      "<class 'pandas.core.frame.DataFrame'>\n",
      "RangeIndex: 15509 entries, 0 to 15508\n",
      "Data columns (total 11 columns):\n",
      " #   Column           Non-Null Count  Dtype  \n",
      "---  ------           --------------  -----  \n",
      " 0   Name             15509 non-null  object \n",
      " 1   Year             15509 non-null  int32  \n",
      " 2   Duration         15509 non-null  object \n",
      " 3   Genre            13632 non-null  object \n",
      " 4   Rating           15509 non-null  float64\n",
      " 5   Votes            15509 non-null  object \n",
      " 6   Director         15509 non-null  object \n",
      " 7   Actor 1          13892 non-null  object \n",
      " 8   Actor 2          13125 non-null  object \n",
      " 9   Actor 3          12365 non-null  object \n",
      " 10  Director_Vector  15508 non-null  object \n",
      "dtypes: float64(1), int32(1), object(9)\n",
      "memory usage: 1.2+ MB\n"
     ]
    }
   ],
   "source": [
    "data.info()"
   ]
  },
  {
   "cell_type": "code",
   "execution_count": 24,
   "id": "5697a7d2",
   "metadata": {},
   "outputs": [
    {
     "name": "stderr",
     "output_type": "stream",
     "text": [
      "C:\\Users\\admin\\AppData\\Local\\Temp\\ipykernel_16436\\3041847990.py:1: FutureWarning: The default value of regex will change from True to False in a future version.\n",
      "  data['Duration']=data['Duration'].str.replace(r'[min]','').astype(int)\n"
     ]
    }
   ],
   "source": [
    "data['Duration']=data['Duration'].str.replace(r'[min]','').astype(int)"
   ]
  },
  {
   "cell_type": "code",
   "execution_count": 25,
   "id": "791776d1",
   "metadata": {},
   "outputs": [
    {
     "name": "stdout",
     "output_type": "stream",
     "text": [
      "<class 'pandas.core.frame.DataFrame'>\n",
      "RangeIndex: 15509 entries, 0 to 15508\n",
      "Data columns (total 11 columns):\n",
      " #   Column           Non-Null Count  Dtype  \n",
      "---  ------           --------------  -----  \n",
      " 0   Name             15509 non-null  object \n",
      " 1   Year             15509 non-null  int32  \n",
      " 2   Duration         15509 non-null  int32  \n",
      " 3   Genre            13632 non-null  object \n",
      " 4   Rating           15509 non-null  float64\n",
      " 5   Votes            15509 non-null  object \n",
      " 6   Director         15509 non-null  object \n",
      " 7   Actor 1          13892 non-null  object \n",
      " 8   Actor 2          13125 non-null  object \n",
      " 9   Actor 3          12365 non-null  object \n",
      " 10  Director_Vector  15508 non-null  object \n",
      "dtypes: float64(1), int32(2), object(8)\n",
      "memory usage: 1.2+ MB\n"
     ]
    }
   ],
   "source": [
    "data.info()"
   ]
  },
  {
   "cell_type": "code",
   "execution_count": 26,
   "id": "b7671550",
   "metadata": {},
   "outputs": [
    {
     "name": "stderr",
     "output_type": "stream",
     "text": [
      "C:\\Users\\admin\\AppData\\Local\\Temp\\ipykernel_16436\\3480220796.py:2: FutureWarning: The default value of regex will change from True to False in a future version. In addition, single character regular expressions will *not* be treated as literal strings when regex=True.\n",
      "  data['Votes'] = data['Votes'].str.replace('$', '')\n"
     ]
    }
   ],
   "source": [
    "data['Votes'] = data['Votes'].str.replace(',', '')\n",
    "data['Votes'] = data['Votes'].str.replace('$', '')\n",
    "data['Votes'] = data['Votes'].str.replace('M', '')\n",
    "data['Votes'] = data['Votes'].astype(float).round().astype(int)"
   ]
  },
  {
   "cell_type": "code",
   "execution_count": 27,
   "id": "60a741b5",
   "metadata": {},
   "outputs": [
    {
     "name": "stdout",
     "output_type": "stream",
     "text": [
      "<class 'pandas.core.frame.DataFrame'>\n",
      "RangeIndex: 15509 entries, 0 to 15508\n",
      "Data columns (total 11 columns):\n",
      " #   Column           Non-Null Count  Dtype  \n",
      "---  ------           --------------  -----  \n",
      " 0   Name             15509 non-null  object \n",
      " 1   Year             15509 non-null  int32  \n",
      " 2   Duration         15509 non-null  int32  \n",
      " 3   Genre            13632 non-null  object \n",
      " 4   Rating           15509 non-null  float64\n",
      " 5   Votes            15509 non-null  int32  \n",
      " 6   Director         15509 non-null  object \n",
      " 7   Actor 1          13892 non-null  object \n",
      " 8   Actor 2          13125 non-null  object \n",
      " 9   Actor 3          12365 non-null  object \n",
      " 10  Director_Vector  15508 non-null  object \n",
      "dtypes: float64(1), int32(3), object(7)\n",
      "memory usage: 1.1+ MB\n"
     ]
    }
   ],
   "source": [
    "data.info()"
   ]
  },
  {
   "cell_type": "code",
   "execution_count": 28,
   "id": "e5345d68",
   "metadata": {},
   "outputs": [],
   "source": [
    "def sum_and_convert_to_int(lst):\n",
    "    if lst is None:\n",
    "        return lst\n",
    "    return int(sum(lst))\n",
    "\n",
    "# Applying the function to each list in the column and store the result as integers in a new column\n",
    "data['Director'] = data['Director_Vector'].apply(sum_and_convert_to_int)"
   ]
  },
  {
   "cell_type": "code",
   "execution_count": 29,
   "id": "bb5e8727",
   "metadata": {},
   "outputs": [],
   "source": [
    "data['Director']=data['Director'].fillna(data['Director'].mean())"
   ]
  },
  {
   "cell_type": "code",
   "execution_count": 30,
   "id": "96099291",
   "metadata": {},
   "outputs": [
    {
     "data": {
      "text/plain": [
       "Name                  0\n",
       "Year                  0\n",
       "Duration              0\n",
       "Genre              1877\n",
       "Rating                0\n",
       "Votes                 0\n",
       "Director              0\n",
       "Actor 1            1617\n",
       "Actor 2            2384\n",
       "Actor 3            3144\n",
       "Director_Vector       1\n",
       "dtype: int64"
      ]
     },
     "execution_count": 30,
     "metadata": {},
     "output_type": "execute_result"
    }
   ],
   "source": [
    "data.isnull().sum()"
   ]
  },
  {
   "cell_type": "markdown",
   "id": "4b60a67a",
   "metadata": {},
   "source": [
    "# Extracting x and y"
   ]
  },
  {
   "cell_type": "code",
   "execution_count": 44,
   "id": "64acb591",
   "metadata": {},
   "outputs": [],
   "source": [
    "x=data[['Year','Duration','Director','Votes']]"
   ]
  },
  {
   "cell_type": "code",
   "execution_count": 45,
   "id": "10a3fe6f",
   "metadata": {},
   "outputs": [],
   "source": [
    "y=data['Rating']"
   ]
  },
  {
   "cell_type": "markdown",
   "id": "13d2fe39",
   "metadata": {},
   "source": [
    "# Splitting the data into train and test "
   ]
  },
  {
   "cell_type": "code",
   "execution_count": 40,
   "id": "cf5f82a9",
   "metadata": {},
   "outputs": [],
   "source": [
    "from sklearn.model_selection import train_test_split\n",
    "x_train,x_test,y_train,y_test=train_test_split(x,y,test_size=0.2,random_state=42)"
   ]
  },
  {
   "cell_type": "markdown",
   "id": "507ae681",
   "metadata": {},
   "source": [
    "# Applying Linear Regression"
   ]
  },
  {
   "cell_type": "code",
   "execution_count": 41,
   "id": "0566a2a2",
   "metadata": {},
   "outputs": [],
   "source": [
    "from sklearn.linear_model import LinearRegression\n",
    "lr=LinearRegression()\n",
    "lr.fit(x_train,y_train)\n",
    "y_pred=lr.predict(x_test)"
   ]
  },
  {
   "cell_type": "code",
   "execution_count": 42,
   "id": "f3783967",
   "metadata": {},
   "outputs": [
    {
     "name": "stdout",
     "output_type": "stream",
     "text": [
      "Mean Squared Error: 0.9290355103628952\n"
     ]
    }
   ],
   "source": [
    "from sklearn.metrics import mean_squared_error\n",
    "\n",
    "mse = mean_squared_error(y_test, y_pred)\n",
    "print('Mean Squared Error:', mse)"
   ]
  },
  {
   "cell_type": "code",
   "execution_count": 43,
   "id": "b4a59b7e",
   "metadata": {},
   "outputs": [
    {
     "name": "stdout",
     "output_type": "stream",
     "text": [
      "Ridge Regression: Mean Squared Error = 0.929035511080121\n",
      "Lasso Regression: Mean Squared Error = 0.9338350682696442\n",
      "Random Forest: Mean Squared Error = 0.8110671630703619\n",
      "Gradient Boosting: Mean Squared Error = 0.7068619001267957\n",
      "SVR: Mean Squared Error = 0.9579269033622367\n"
     ]
    }
   ],
   "source": [
    "from sklearn.model_selection import train_test_split\n",
    "from sklearn.linear_model import Ridge, Lasso\n",
    "from sklearn.ensemble import RandomForestRegressor, GradientBoostingRegressor\n",
    "from sklearn.svm import SVR\n",
    "from sklearn.metrics import mean_squared_error\n",
    "models = {\n",
    "    \n",
    "    'Ridge Regression': Ridge(),\n",
    "    'Lasso Regression': Lasso(),\n",
    "    'Random Forest': RandomForestRegressor(),\n",
    "    'Gradient Boosting': GradientBoostingRegressor(),\n",
    "    'SVR': SVR()\n",
    "}\n",
    "\n",
    "# Train and evaluate each model\n",
    "for name, model in models.items():\n",
    "    model.fit(x_train, y_train)\n",
    "    y_pred = model.predict(x_test)\n",
    "    mse = mean_squared_error(y_test, y_pred)\n",
    "    print(f'{name}: Mean Squared Error = {mse}')"
   ]
  },
  {
   "cell_type": "code",
   "execution_count": null,
   "id": "1f14ba87",
   "metadata": {},
   "outputs": [],
   "source": []
  }
 ],
 "metadata": {
  "kernelspec": {
   "display_name": "Python 3 (ipykernel)",
   "language": "python",
   "name": "python3"
  },
  "language_info": {
   "codemirror_mode": {
    "name": "ipython",
    "version": 3
   },
   "file_extension": ".py",
   "mimetype": "text/x-python",
   "name": "python",
   "nbconvert_exporter": "python",
   "pygments_lexer": "ipython3",
   "version": "3.9.13"
  }
 },
 "nbformat": 4,
 "nbformat_minor": 5
}
